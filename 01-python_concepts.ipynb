{
 "cells": [
  {
   "cell_type": "markdown",
   "id": "9383bafa",
   "metadata": {},
   "source": [
    "### Python Programming Concepts"
   ]
  },
  {
   "cell_type": "markdown",
   "id": "17df7d6e",
   "metadata": {},
   "source": [
    "#### 1. Create a variable to store the value 500 for sales"
   ]
  },
  {
   "cell_type": "code",
   "execution_count": 3,
   "id": "a5f43c2f",
   "metadata": {},
   "outputs": [
    {
     "data": {
      "text/plain": [
       "500"
      ]
     },
     "execution_count": 3,
     "metadata": {},
     "output_type": "execute_result"
    }
   ],
   "source": [
    "sales = 500\n",
    "sales"
   ]
  },
  {
   "cell_type": "markdown",
   "id": "6dc8b9ea",
   "metadata": {},
   "source": [
    "#### 2. Create a variable to store several values:  \n",
    "* sales: 500, 475, 625\n",
    "* integers 1 - 9 "
   ]
  },
  {
   "cell_type": "code",
   "execution_count": 70,
   "id": "902fe3bd",
   "metadata": {},
   "outputs": [
    {
     "name": "stdout",
     "output_type": "stream",
     "text": [
      "[500, 475, 625]\n",
      "[1, 2, 3, 4, 5, 6, 7, 8, 9]\n"
     ]
    }
   ],
   "source": [
    "sales_list = [500, 475, 625]\n",
    "\n",
    "print(sales_list)\n",
    "\n",
    "int_list = list(range(1, 10))\n",
    "print(int_list)"
   ]
  },
  {
   "cell_type": "markdown",
   "id": "62e55953",
   "metadata": {},
   "source": [
    "#### 3. Create a variable to store the names and email addresses for a number of customers\n",
    "* John, john@some.com; Ann, ann@some.com"
   ]
  },
  {
   "cell_type": "code",
   "execution_count": 77,
   "id": "03f2b161",
   "metadata": {},
   "outputs": [
    {
     "name": "stdout",
     "output_type": "stream",
     "text": [
      "[{'name': 'john', 'email': 'john@some.com'}, {'name': 'Ann', 'email': 'ann@some.com'}]\n",
      "{'name': 'john', 'email': 'john@some.com'}\n",
      "dict_keys(['name', 'email'])\n"
     ]
    }
   ],
   "source": [
    "customers = [{'name':'john', 'email':'john@some.com'},{'name':'Ann', 'email':'ann@some.com'}]\n",
    "print(customers)\n",
    "print(customers[0])\n",
    "print(customers[0].keys())"
   ]
  },
  {
   "cell_type": "markdown",
   "id": "d6b1e8c6",
   "metadata": {},
   "source": [
    "#### 4. Use Python to generate a random value based on each of following:\n",
    "1. between 0 and 1\n",
    "2. the standard normal distribution (rounded to two decimal places)\n",
    "3. a value between 1 and 10\n",
    "4. either H or T"
   ]
  },
  {
   "cell_type": "code",
   "execution_count": 83,
   "id": "f004d7b5",
   "metadata": {},
   "outputs": [
    {
     "name": "stdout",
     "output_type": "stream",
     "text": [
      "0.13436424411240122\n"
     ]
    }
   ],
   "source": [
    "from random import seed\n",
    "from random import random\n",
    "seed(1)\n",
    "value = random()\n",
    "print(value)"
   ]
  },
  {
   "cell_type": "code",
   "execution_count": 90,
   "id": "15a0abd5",
   "metadata": {},
   "outputs": [
    {
     "data": {
      "text/plain": [
       "0.8474337369372327"
      ]
     },
     "execution_count": 90,
     "metadata": {},
     "output_type": "execute_result"
    }
   ],
   "source": [
    "from random import random\n",
    "random()"
   ]
  },
  {
   "cell_type": "code",
   "execution_count": 96,
   "id": "1a29e601",
   "metadata": {},
   "outputs": [
    {
     "name": "stdout",
     "output_type": "stream",
     "text": [
      "0.03133451683171687\n"
     ]
    }
   ],
   "source": [
    "# uniform from 0 to 1\n",
    "from random import gauss\n",
    "value = gauss(0,1)\n",
    "print(value)"
   ]
  },
  {
   "cell_type": "code",
   "execution_count": 100,
   "id": "c0447e4a",
   "metadata": {},
   "outputs": [
    {
     "data": {
      "text/plain": [
       "1.2309072291166607"
      ]
     },
     "execution_count": 100,
     "metadata": {},
     "output_type": "execute_result"
    }
   ],
   "source": [
    "from random import normalvariate\n",
    "normalvariate(0,1)"
   ]
  },
  {
   "cell_type": "code",
   "execution_count": 82,
   "id": "a8efc6fc",
   "metadata": {},
   "outputs": [
    {
     "name": "stdout",
     "output_type": "stream",
     "text": [
      "2\n"
     ]
    }
   ],
   "source": [
    "from random import randint\n",
    "seed(1)\n",
    "value = randint(0,10)\n",
    "print(value)"
   ]
  },
  {
   "cell_type": "code",
   "execution_count": 109,
   "id": "e6f03450",
   "metadata": {},
   "outputs": [
    {
     "name": "stdout",
     "output_type": "stream",
     "text": [
      "H\n",
      "HT\n",
      "HTH\n",
      "HTHH\n",
      "HTHHH\n",
      "HTHHHH\n",
      "HTHHHHT\n",
      "HTHHHHTH\n",
      "HTHHHHTHT\n",
      "HTHHHHTHTH\n"
     ]
    },
    {
     "data": {
      "text/plain": [
       "['H', 'HHHH', 'H', 'H']"
      ]
     },
     "execution_count": 109,
     "metadata": {},
     "output_type": "execute_result"
    }
   ],
   "source": [
    "from random import choice\n",
    "flips = ''\n",
    "\n",
    "for flip in range(10):\n",
    "    flips += choice([\"H\", \"T\"])\n",
    "    print(flips)\n",
    "flips.split(\"T\")"
   ]
  },
  {
   "cell_type": "code",
   "execution_count": null,
   "id": "3a150c3e",
   "metadata": {},
   "outputs": [],
   "source": []
  },
  {
   "cell_type": "code",
   "execution_count": null,
   "id": "f80f4b3b",
   "metadata": {},
   "outputs": [],
   "source": []
  },
  {
   "cell_type": "code",
   "execution_count": null,
   "id": "bdb52b86",
   "metadata": {},
   "outputs": [],
   "source": []
  },
  {
   "cell_type": "markdown",
   "id": "7eddf06a",
   "metadata": {},
   "source": [
    "#### 5. Use Python to determine your current working directory"
   ]
  },
  {
   "cell_type": "code",
   "execution_count": 38,
   "id": "d8f79474",
   "metadata": {},
   "outputs": [
    {
     "name": "stdout",
     "output_type": "stream",
     "text": [
      "C:\\Users\\varij\\Documents\\classwork\n"
     ]
    }
   ],
   "source": [
    "import os\n",
    "print(os.getcwd())"
   ]
  },
  {
   "cell_type": "markdown",
   "id": "fc43ec50",
   "metadata": {},
   "source": [
    "#### 6. Use Python to determine how many days until New Year's Day"
   ]
  },
  {
   "cell_type": "code",
   "execution_count": 42,
   "id": "13f630fe",
   "metadata": {},
   "outputs": [
    {
     "name": "stdout",
     "output_type": "stream",
     "text": [
      "-17 days, 7:13:00.366293\n"
     ]
    }
   ],
   "source": [
    "from datetime import datetime, timedelta\n",
    "now = datetime.now()\n",
    "\n",
    "new_years_day = datetime(now.year, 1, 1)\n",
    "\n",
    "print(new_years_day - now)"
   ]
  },
  {
   "cell_type": "code",
   "execution_count": 110,
   "id": "582c6690",
   "metadata": {},
   "outputs": [
    {
     "data": {
      "text/plain": [
       "datetime.timedelta(days=350)"
      ]
     },
     "execution_count": 110,
     "metadata": {},
     "output_type": "execute_result"
    }
   ],
   "source": [
    "import datetime as dt\n",
    "today = dt.date.today()\n",
    "new_years_day = dt.date(2025,1,1)\n",
    "new_years_day -  today"
   ]
  },
  {
   "cell_type": "markdown",
   "id": "2ba4ea92",
   "metadata": {},
   "source": [
    "#### 7. Write a short program that displays the future value of 1,000 earning 5%  at the end of each year for the next 5 years"
   ]
  },
  {
   "cell_type": "code",
   "execution_count": 43,
   "id": "6fef4a8c",
   "metadata": {},
   "outputs": [
    {
     "name": "stdout",
     "output_type": "stream",
     "text": [
      "1250.0\n"
     ]
    }
   ],
   "source": [
    "#FV = I * (1 + (R*T))\n",
    "FV = 1000 * (1 + (0.05 * 5))\n",
    "print(FV)"
   ]
  },
  {
   "cell_type": "code",
   "execution_count": 117,
   "id": "cb8cc546",
   "metadata": {},
   "outputs": [
    {
     "name": "stdout",
     "output_type": "stream",
     "text": [
      "Year                Value\n",
      "-------------------------\n",
      "1              1,050.00\n",
      "2              1,102.50\n",
      "3              1,157.63\n",
      "4              1,215.51\n",
      "5              1,276.28\n"
     ]
    }
   ],
   "source": [
    "pv = 1000\n",
    "rate = 0.05\n",
    "years = 5\n",
    "print(f\"{'Year':<15}{'Value':>10}\")\n",
    "print(\"-\" * 25)\n",
    "for year in range(1, years + 1):\n",
    "    print(f\"{year:<15d}{pv * (1+ rate) ** year:>,.2f}\")"
   ]
  },
  {
   "cell_type": "markdown",
   "id": "150201c8",
   "metadata": {},
   "source": [
    "#### 8. Write a short program that prompts a user to enter a stock symbol and press enter. Add each symbol entered to a variable. The program should run until the user presses the enter key without entering anything (empty string) "
   ]
  },
  {
   "cell_type": "code",
   "execution_count": 46,
   "id": "931a346f",
   "metadata": {},
   "outputs": [
    {
     "name": "stdout",
     "output_type": "stream",
     "text": [
      "enter a stock symbolORCL\n",
      "enter a stock symbolINF\n",
      "enter a stock symbol\n",
      "['ORCL', 'INF']\n"
     ]
    }
   ],
   "source": [
    "symbols = []\n",
    "while True:\n",
    "    stock_symbol = input('enter a stock symbol')\n",
    "    if stock_symbol == \"\":\n",
    "        break\n",
    "    symbols.append(stock_symbol)\n",
    "print(symbols)"
   ]
  },
  {
   "cell_type": "markdown",
   "id": "fc2a7592",
   "metadata": {},
   "source": [
    "#### 9. Write the code necessary to calculate the sum of the square differences of a group of values : \n",
    "58, 32, 37, 41, 36, 36, 54, 37, 25, 53\n",
    "##### $\\Sigma $(${x}$ - $\\bar{x}$)$^2$"
   ]
  },
  {
   "cell_type": "code",
   "execution_count": 56,
   "id": "73eddf12",
   "metadata": {},
   "outputs": [
    {
     "name": "stdout",
     "output_type": "stream",
     "text": [
      "mean:  40.9\n",
      "sum of squares: 1020.9000000000001\n"
     ]
    }
   ],
   "source": [
    "import statistics\n",
    "data = [58, 32, 37, 41, 36, 36, 54, 37, 25, 53]\n",
    "mean_data = statistics.mean(data)\n",
    "print('mean: ', mean_data)\n",
    "\n",
    "sum = 0\n",
    "for i in range(0, len(data)):\n",
    "    sum = sum + (data[i]- mean_data)**2\n",
    "print('sum of squares:', sum)"
   ]
  },
  {
   "cell_type": "markdown",
   "id": "89a7db2f",
   "metadata": {},
   "source": []
  },
  {
   "cell_type": "markdown",
   "id": "6d6f2e64",
   "metadata": {},
   "source": [
    "#### 10. Opening, reading and writing files"
   ]
  },
  {
   "cell_type": "code",
   "execution_count": 61,
   "id": "f7fa569d",
   "metadata": {},
   "outputs": [
    {
     "name": "stdout",
     "output_type": "stream",
     "text": [
      "They're selling postcards of the hanging, they're painting the passports brown\n"
     ]
    }
   ],
   "source": [
    "with open('sample_file_read.txt', 'r') as reader:\n",
    "    # Read & print the ntire file\n",
    "    print(reader.read())\n"
   ]
  },
  {
   "cell_type": "code",
   "execution_count": 62,
   "id": "05c1ff8e",
   "metadata": {},
   "outputs": [],
   "source": [
    "with open('sample_file_write.txt', 'w') as writer:\n",
    "    # Write\n",
    "    writer.write(\"this is text added through script\")"
   ]
  },
  {
   "cell_type": "markdown",
   "id": "eec548d6",
   "metadata": {},
   "source": [
    "#### 11. Create a function the will simulate rolling two die and return the value of each and and the sum "
   ]
  },
  {
   "cell_type": "code",
   "execution_count": 63,
   "id": "bb115cdc",
   "metadata": {},
   "outputs": [
    {
     "name": "stdout",
     "output_type": "stream",
     "text": [
      "[5, 1]\n"
     ]
    }
   ],
   "source": [
    "import random\n",
    "\n",
    "# ...\n",
    "\n",
    "def roll_dice(num_dice):\n",
    "    \"\"\"Return a list of integers with length `num_dice`.\n",
    "\n",
    "    Each integer in the returned list is a random number between\n",
    "    1 and 6, inclusive.\n",
    "    \"\"\"\n",
    "    roll_results = []\n",
    "    for _ in range(num_dice):\n",
    "        roll = random.randint(1, 6)\n",
    "        roll_results.append(roll)\n",
    "    return roll_results\n",
    "\n",
    "print(roll_dice(2))"
   ]
  },
  {
   "cell_type": "markdown",
   "id": "21556d7f",
   "metadata": {},
   "source": [
    "#### 12. Write the code needed to evaluate whether a value in a group of values is negative or postive and prints an approriate message, i.e. postive, negative \n",
    "-1.59, 2.36, 1.69, 1.13, -0.91, 1.48, -0.34, 1.31, -0.74, 0.2"
   ]
  },
  {
   "cell_type": "code",
   "execution_count": 66,
   "id": "d6c38ecb",
   "metadata": {},
   "outputs": [
    {
     "name": "stdout",
     "output_type": "stream",
     "text": [
      "-1.59 is negative\n",
      "2.36 is positive\n",
      "1.69 is positive\n",
      "1.13 is positive\n",
      "-0.91 is negative\n",
      "1.48 is positive\n",
      "-0.34 is negative\n",
      "1.31 is positive\n",
      "-0.74 is negative\n",
      "0.2 is positive\n"
     ]
    }
   ],
   "source": [
    "list_of_numbers = [-1.59, 2.36, 1.69, 1.13, -0.91, 1.48, -0.34, 1.31, -0.74, 0.2]\n",
    "\n",
    "for x in range(0, len(list_of_numbers)):\n",
    "    if list_of_numbers[x] < 0:\n",
    "        print(list_of_numbers[x], 'is negative')\n",
    "    else:\n",
    "        print(list_of_numbers[x], 'is positive')"
   ]
  },
  {
   "cell_type": "code",
   "execution_count": null,
   "id": "aaefba17",
   "metadata": {},
   "outputs": [],
   "source": []
  },
  {
   "cell_type": "markdown",
   "id": "8cafe65c",
   "metadata": {},
   "source": [
    "#### 14.  Complete the following:\n",
    "1. Write a program that generates 500 random integers from 1 to n, for example, the first integer will be 1 the second will be 1 or 2, the fifth between 1 and 5, and so on.\n",
    "2. The program should write each integer to a file \n",
    "3. Once all integers are written close the file\n",
    "\n",
    "##### Part 2\n",
    "1. Open and read the file into a list\n",
    "2. Create a line plot of the data"
   ]
  },
  {
   "cell_type": "code",
   "execution_count": 67,
   "id": "60a910bb",
   "metadata": {},
   "outputs": [],
   "source": [
    "import random\n",
    "\n",
    "def generate_random_integers(n, count):\n",
    "    with open('random_integers.txt', 'w') as file:\n",
    "        for _ in range(count):\n",
    "            random_integer = random.randint(1, n)\n",
    "            file.write(str(random_integer) + '\\n')\n",
    "\n",
    "# Example: Generate 500 random integers from 1 to 10\n",
    "generate_random_integers(10, 500)\n"
   ]
  },
  {
   "cell_type": "code",
   "execution_count": 68,
   "id": "d6b4180c",
   "metadata": {},
   "outputs": [
    {
     "data": {
      "image/png": "[encoded data removed]",
      "text/plain": [
       "<Figure size 640x480 with 1 Axes>"
      ]
     },
     "metadata": {},
     "output_type": "display_data"
    }
   ],
   "source": [
    "import matplotlib.pyplot as plt\n",
    "\n",
    "def read_file_into_list(file_name):\n",
    "    with open(file_name, 'r') as file:\n",
    "        integers_list = [int(line.strip()) for line in file]\n",
    "    return integers_list\n",
    "\n",
    "def create_line_plot(data):\n",
    "    plt.plot(data)\n",
    "    plt.title('Line Plot of Random Integers')\n",
    "    plt.xlabel('Index')\n",
    "    plt.ylabel('Integer Value')\n",
    "    plt.show()\n",
    "\n",
    "# Assuming you've already generated the random integers file\n",
    "file_name = 'random_integers.txt'\n",
    "\n",
    "# Step 1: Read the file into a list\n",
    "integers_list = read_file_into_list(file_name)\n",
    "\n",
    "# Step 2: Create a line plot of the data\n",
    "create_line_plot(integers_list)\n"
   ]
  },
  {
   "cell_type": "code",
   "execution_count": null,
   "id": "adb6aa11",
   "metadata": {},
   "outputs": [],
   "source": []
  },
  {
   "cell_type": "code",
   "execution_count": null,
   "id": "6745da79",
   "metadata": {},
   "outputs": [],
   "source": []
  },
  {
   "cell_type": "code",
   "execution_count": null,
   "id": "21140445",
   "metadata": {},
   "outputs": [],
   "source": []
  },
  {
   "cell_type": "code",
   "execution_count": null,
   "id": "3d546600",
   "metadata": {},
   "outputs": [],
   "source": []
  }
 ],
 "metadata": {
  "kernelspec": {
   "display_name": "Python 3 (ipykernel)",
   "language": "python",
   "name": "python3"
  },
  "language_info": {
   "codemirror_mode": {
    "name": "ipython",
    "version": 3
   },
   "file_extension": ".py",
   "mimetype": "text/x-python",
   "name": "python",
   "nbconvert_exporter": "python",
   "pygments_lexer": "ipython3",
   "version": "3.11.5"
  }
 },
 "nbformat": 4,
 "nbformat_minor": 5
}
